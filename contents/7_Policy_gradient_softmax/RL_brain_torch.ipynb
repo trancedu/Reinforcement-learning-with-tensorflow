{
 "cells": [
  {
   "cell_type": "code",
   "execution_count": 1,
   "metadata": {},
   "outputs": [
    {
     "name": "stdout",
     "output_type": "stream",
     "text": [
      "tensor([[0.3295, 0.3342, 0.3363],\n",
      "        [0.3104, 0.3221, 0.3676]], grad_fn=<SoftmaxBackward0>)\n"
     ]
    }
   ],
   "source": [
    "import torch\n",
    "import torch.nn as nn \n",
    "from torch.autograd import Variable\n",
    "import torch.nn.functional as F\n",
    "import numpy as np\n",
    "import gym\n",
    "# from maze_env import Maze\n",
    "\n",
    "# Hyper Parameters\n",
    "BATCH_SIZE = 32\n",
    "LR = 0.01\n",
    "EPSILON = 0.9\n",
    "GAMMA = 0.9\n",
    "TARGET_REPLACE_ITER = 100\n",
    "MEMORY_CAPACITY = 2000\n",
    "# env = Maze()\n",
    "# N_ACTIONS = env.n_actions\n",
    "# N_STATES = env.n_features\n",
    "\n",
    "class Net(nn.Module):\n",
    "    def __init__(self, N_STATES, N_ACTIONS):\n",
    "        super(Net, self).__init__()\n",
    "        self.fc1 = nn.Linear(N_STATES, 30)\n",
    "        self.fc1.weight.data.normal_(0, 0.1)\n",
    "        self.out = nn.Linear(30, N_ACTIONS)\n",
    "        self.out.weight.data.normal_(0, 0.1)\n",
    "    \n",
    "    def forward(self, x):\n",
    "        x = self.fc1(x)\n",
    "        x = F.relu(x)\n",
    "        actions_value = self.out(x)\n",
    "        actions_prob = F.softmax(actions_value, dim=1)\n",
    "        return actions_prob\n",
    "      \n",
    "net = Net(4, 3)\n",
    "actions_value = net.forward(Variable(torch.randn(2, 4)))\n",
    "print(actions_value)\n"
   ]
  },
  {
   "cell_type": "code",
   "execution_count": 2,
   "metadata": {},
   "outputs": [],
   "source": [
    "class PolicyGradientTorch(object):\n",
    "    def __init__(self, N_ACTIONS, N_STATES) -> None:\n",
    "        super().__init__()\n",
    "        self.N_ACTIONS, self.N_STATES = N_ACTIONS, N_STATES\n",
    "        self.eval_net, self.target_net = Net(N_STATES, N_ACTIONS), Net(N_STATES, N_ACTIONS)\n",
    "        self.learn_step_counter = 0\n",
    "        self.memory_counter = 0\n",
    "        self.memory = np.zeros((MEMORY_CAPACITY, N_STATES * 2 + 2))\n",
    "        self.optimizer = torch.optim.Adam(self.eval_net.parameters(), lr=LR)\n",
    "        self.loss_func = nn.MSELoss()\n",
    "        self.cost_his = []\n",
    "    \n",
    "    def choose_action(self, x):\n",
    "        x = Variable(torch.unsqueeze(torch.FloatTensor(x), 0))\n",
    "        prob_weights = self.eval_net.forward(x).data.numpy()\n",
    "        action = np.random.choice(range(prob_weights.shape[1]), p=prob_weights.ravel())\n",
    "        # if np.random.uniform() < EPSILON:\n",
    "        #     actions_value = self.eval_net.forward(x)\n",
    "        #     action = torch.max(actions_value, 1)[1].data.numpy()\n",
    "        #     action = action[0]\n",
    "        # else:\n",
    "        #     action = np.random.randint(0, self.N_ACTIONS)\n",
    "        return action\n",
    "           \n",
    "    def store_transition(self, s, a, r, s_):\n",
    "        transition = np.hstack((s, [a, r], s_))\n",
    "        index = self.memory_counter % MEMORY_CAPACITY\n",
    "        self.memory[index, :] = transition\n",
    "        self.memory_counter += 1\n",
    "\n",
    "    def learn(self):\n",
    "        N_ACTIONS, N_STATES = self.N_ACTIONS, self.N_STATES\n",
    "        if self.learn_step_counter % TARGET_REPLACE_ITER == 0:\n",
    "            print(\"Replace Learning: \", self.learn_step_counter)\n",
    "            self.target_net.load_state_dict(self.eval_net.state_dict()) ## TODO: WHY\n",
    "        self.learn_step_counter += 1\n",
    "        \n",
    "        sample_index = np.random.choice(MEMORY_CAPACITY, BATCH_SIZE)\n",
    "        b_memory = self.memory[sample_index, :]\n",
    "        b_s = Variable(torch.FloatTensor(b_memory[:, :N_STATES]))\n",
    "        b_a = Variable(torch.LongTensor(b_memory[:, N_STATES:N_STATES+1].astype(int)))\n",
    "        b_r = Variable(torch.FloatTensor(b_memory[:, N_STATES+1:N_STATES+2]))\n",
    "        b_s_ = Variable(torch.FloatTensor(b_memory[:, -N_STATES:]))\n",
    "        \n",
    "        q_eval = self.eval_net(b_s).gather(1, b_a)\n",
    "        q_next = self.target_net(b_s_).detach()\n",
    "        q_target = b_r + GAMMA * q_next.max(1)[0]\n",
    "        loss = self.loss_func(q_eval, q_target)\n",
    "        self.cost_his.append(float(loss.data.numpy()))\n",
    "        self.optimizer.zero_grad()\n",
    "        loss.backward()\n",
    "        self.optimizer.step()\n",
    "        \n",
    "    def plot_cost(self):\n",
    "        import matplotlib.pyplot as plt\n",
    "        plt.plot(np.arange(len(self.cost_his)), self.cost_his)\n",
    "        plt.ylabel('Cost')\n",
    "        plt.xlabel('training steps')\n",
    "        plt.show()"
   ]
  },
  {
   "cell_type": "code",
   "execution_count": 3,
   "metadata": {},
   "outputs": [],
   "source": [
    "pg = PolicyGradientTorch(3, 4)"
   ]
  },
  {
   "cell_type": "code",
   "execution_count": 10,
   "metadata": {},
   "outputs": [
    {
     "data": {
      "text/plain": [
       "2"
      ]
     },
     "execution_count": 10,
     "metadata": {},
     "output_type": "execute_result"
    }
   ],
   "source": [
    "pg.choose_action([1, 2, 3, 4])"
   ]
  },
  {
   "cell_type": "code",
   "execution_count": null,
   "metadata": {},
   "outputs": [],
   "source": []
  }
 ],
 "metadata": {
  "kernelspec": {
   "display_name": "Python 3.9.12 ('base')",
   "language": "python",
   "name": "python3"
  },
  "language_info": {
   "codemirror_mode": {
    "name": "ipython",
    "version": 3
   },
   "file_extension": ".py",
   "mimetype": "text/x-python",
   "name": "python",
   "nbconvert_exporter": "python",
   "pygments_lexer": "ipython3",
   "version": "3.9.12"
  },
  "orig_nbformat": 4,
  "vscode": {
   "interpreter": {
    "hash": "841e27f2a14d44ccd92f4291012cb59f687474acc5b2dafa531afbd4ea5b7136"
   }
  }
 },
 "nbformat": 4,
 "nbformat_minor": 2
}
